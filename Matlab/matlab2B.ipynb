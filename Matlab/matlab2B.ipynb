{
 "cells": [
  {
   "cell_type": "code",
   "execution_count": 44,
   "metadata": {},
   "outputs": [],
   "source": [
    "import numpy as np\n",
    "from sympy import symbols, diff\n",
    "%matplotlib inline"
   ]
  },
  {
   "cell_type": "code",
   "execution_count": 45,
   "metadata": {},
   "outputs": [
    {
     "name": "stdout",
     "output_type": "stream",
     "text": [
      "2.8*x - 5.8*y - 6.2\n",
      "-5.8*x + 11.8*y + 12.2\n"
     ]
    }
   ],
   "source": [
    "x,y = symbols('x y', real=True)\n",
    "f = -0.1*(1+x-y)**2+1.5*(2*y-x+2)**2\n",
    "\n",
    "#differntiating function f in respect to x\n",
    "f_diff_x = diff(f, x)\n",
    "print(f_diff_x)\n",
    "\n",
    "#differntiating function f in respect to y\n",
    "f_diff_y = diff(f, y)\n",
    "print(f_diff_y)"
   ]
  },
  {
   "cell_type": "code",
   "execution_count": 46,
   "metadata": {},
   "outputs": [
    {
     "name": "stdout",
     "output_type": "stream",
     "text": [
      "24.540440000000004\n",
      "24.229800000000004\n"
     ]
    }
   ],
   "source": [
    "def f(x, y):\n",
    "    return -0.1*(1+x-y)**2+1.5*(2*y-x+2)**2\n",
    "\n",
    "def dx(x,y):\n",
    "    return 2.8*x - 5.8*y - 6.2\n",
    "\n",
    "def dy(x,y):\n",
    "    return -5.8*x + 11.8*y + 12.2   \n",
    "\n",
    "def L(x,y):\n",
    "    return f(-2.6,-0.5)+dx(-2.6,-0.5)*(x+2.6)+dy(-2.6,-0.5)*(y+0.5)\n",
    "\n",
    "print(f(-2.66,-0.3))\n",
    "print(L(-2.66,-0.3))"
   ]
  },
  {
   "cell_type": "code",
   "execution_count": 47,
   "metadata": {},
   "outputs": [
    {
     "name": "stdout",
     "output_type": "stream",
     "text": [
      "0.31063999999999936\n"
     ]
    }
   ],
   "source": [
    "# linjäriseringens absolutfe\n",
    "E_abs = np.abs(f(-2.66,-0.3)-L(-2.66,-0.3))\n",
    "print(E_abs)"
   ]
  },
  {
   "cell_type": "code",
   "execution_count": 48,
   "metadata": {},
   "outputs": [
    {
     "name": "stdout",
     "output_type": "stream",
     "text": [
      "0.01265828974541611\n"
     ]
    }
   ],
   "source": [
    "#det relativa felet\n",
    "E_rel = E_abs / np.abs(f(-2.66,-0.3))\n",
    "print(E_rel)"
   ]
  }
 ],
 "metadata": {
  "interpreter": {
   "hash": "db8a72a44a8983726fa880dd287cf80b2c2f4295b523f363f1f268bb71966adc"
  },
  "kernelspec": {
   "display_name": "Python 3.8.8 64-bit ('base': conda)",
   "language": "python",
   "name": "python3"
  },
  "language_info": {
   "codemirror_mode": {
    "name": "ipython",
    "version": 3
   },
   "file_extension": ".py",
   "mimetype": "text/x-python",
   "name": "python",
   "nbconvert_exporter": "python",
   "pygments_lexer": "ipython3",
   "version": "3.8.8"
  },
  "orig_nbformat": 4
 },
 "nbformat": 4,
 "nbformat_minor": 2
}
